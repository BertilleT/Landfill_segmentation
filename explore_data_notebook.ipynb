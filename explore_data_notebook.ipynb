{
 "cells": [
  {
   "cell_type": "code",
   "execution_count": null,
   "metadata": {},
   "outputs": [],
   "source": [
    "import json\n",
    "import geopandas as gpd\n",
    "import pandas as pd\n",
    "\n",
    "import datetime\n",
    "import geojson\n",
    "import numpy as np                   \n",
    "import matplotlib.pyplot as plt      \n",
    "import rasterio       \n",
    "import tsd            # time series downloader for sentinel and landsat\n",
    "import utils          # IO and coordinate system conversion tools\n",
    "import vistools       # display tools\n",
    "import folium\n",
    "import folium.plugins"
   ]
  },
  {
   "cell_type": "code",
   "execution_count": null,
   "metadata": {},
   "outputs": [],
   "source": [
    "with open('data/landfills_openstreetmap.geojson') as f:\n",
    "    data = json.load(f)"
   ]
  },
  {
   "cell_type": "code",
   "execution_count": 12,
   "metadata": {},
   "outputs": [
    {
     "name": "stdout",
     "output_type": "stream",
     "text": [
      "key:  type\n",
      "value:  Feature\n",
      "key:  properties\n",
      "value:  {'@id': 'relation/102591', 'landuse': 'landfill', 'name': 'OMV Deponie', 'operator': 'OMV', 'type': 'multipolygon'}\n",
      "key:  geometry\n",
      "value:  {'type': 'Polygon', 'coordinates': [[[16.6678641, 48.3503814], [16.6672106, 48.348237], [16.6663631, 48.3457996], [16.6653583, 48.3431169], [16.6714033, 48.3407591], [16.6719418, 48.3422859], [16.6726635, 48.3437644], [16.6739783, 48.3453721], [16.6745145, 48.3465898], [16.6746037, 48.3481145], [16.6751143, 48.348911], [16.6724267, 48.3492826], [16.6678641, 48.3503814]], [[16.6684772, 48.3463882], [16.6683615, 48.3464492], [16.6683305, 48.3464724], [16.6684455, 48.3465814], [16.6689926, 48.3464169], [16.6689629, 48.3463191], [16.6688833, 48.3462929], [16.6686958, 48.3463111], [16.6684772, 48.3463882]]]}\n",
      "key:  id\n",
      "value:  relation/102591\n"
     ]
    }
   ],
   "source": [
    "for k, v in my_first_polygon.items():\n",
    "    print('key: ', k)\n",
    "    print('value: ', v)"
   ]
  },
  {
   "cell_type": "code",
   "execution_count": null,
   "metadata": {},
   "outputs": [
    {
     "name": "stdout",
     "output_type": "stream",
     "text": [
      "[[[16.6678641, 48.3503814], [16.6672106, 48.348237], [16.6663631, 48.3457996], [16.6653583, 48.3431169], [16.6714033, 48.3407591], [16.6719418, 48.3422859], [16.6726635, 48.3437644], [16.6739783, 48.3453721], [16.6745145, 48.3465898], [16.6746037, 48.3481145], [16.6751143, 48.348911], [16.6724267, 48.3492826], [16.6678641, 48.3503814]], [[16.6684772, 48.3463882], [16.6683615, 48.3464492], [16.6683305, 48.3464724], [16.6684455, 48.3465814], [16.6689926, 48.3464169], [16.6689629, 48.3463191], [16.6688833, 48.3462929], [16.6686958, 48.3463111], [16.6684772, 48.3463882]]]\n",
      "[16.6678641, 48.3503814]\n"
     ]
    }
   ],
   "source": [
    "my_first_polygon = data['features'][0]['geometry']['coordinates']\n",
    "print(my_first_polygon)\n",
    "\n",
    "my_first_point = my_first_polygon[0][0]\n",
    "print(my_first_point)"
   ]
  },
  {
   "cell_type": "markdown",
   "metadata": {},
   "source": [
    "### Filter not polygons"
   ]
  },
  {
   "cell_type": "code",
   "execution_count": 32,
   "metadata": {},
   "outputs": [
    {
     "name": "stdout",
     "output_type": "stream",
     "text": [
      "{'Polygon': 98.87, 'MultiPolygon': 0.18, 'LineString': 0.05, 'Point': 0.91}\n"
     ]
    }
   ],
   "source": [
    "# print percentages of each geometry.type of landfill in data\n",
    "landfills_types = {}\n",
    "for i in range(len(data['features'])):\n",
    "    if data['features'][i]['geometry']['type'] in landfills_types:\n",
    "        landfills_types[data['features'][i]['geometry']['type']] += 1\n",
    "    else:\n",
    "        landfills_types[data['features'][i]['geometry']['type']] = 1\n",
    "# Turn the number of landfills into percentages\n",
    "total_landfills = len(data['features'])\n",
    "landfills_types_per = {}\n",
    "\n",
    "for k, v in landfills_types.items():\n",
    "    landfills_types_per[k] = round(v / total_landfills * 100, 2)\n",
    "\n",
    "print(landfills_types_per)"
   ]
  },
  {
   "cell_type": "markdown",
   "metadata": {},
   "source": [
    "Around 1% of the dataset are not polygons. We will filter them out. "
   ]
  },
  {
   "cell_type": "markdown",
   "metadata": {},
   "source": [
    "### Study of the locations of the polygons in the dataset"
   ]
  },
  {
   "cell_type": "code",
   "execution_count": 19,
   "metadata": {},
   "outputs": [
    {
     "name": "stdout",
     "output_type": "stream",
     "text": [
      "   longitude   latitude\n",
      "0  16.667864  48.350381\n",
      "1  52.559522  55.682288\n",
      "2  23.995894  59.348218\n",
      "3  11.172639  54.495600\n",
      "4  60.806194  56.931523\n"
     ]
    }
   ],
   "source": [
    "my_dict = {'longitude': [], 'latitude': []}\n",
    "for i in range(len(data['features'])):\n",
    "    if data['features'][i]['geometry']['type'] == 'Polygon':\n",
    "        my_first_point_polygon = data['features'][i]['geometry']['coordinates'][0][0]\n",
    "        my_dict['longitude'].append(my_first_point_polygon[0])\n",
    "        my_dict['latitude'].append(my_first_point_polygon[1])\n",
    "\n",
    "df = pd.DataFrame(my_dict)\n",
    "print(df.head())"
   ]
  },
  {
   "cell_type": "code",
   "execution_count": 20,
   "metadata": {},
   "outputs": [
    {
     "name": "stderr",
     "output_type": "stream",
     "text": [
      "/home/bertille/miniconda3/envs/env_pytorch/lib/python3.6/site-packages/ipykernel_launcher.py:3: UserWarning: CRS mismatch between the CRS of left geometries and the CRS of right geometries.\n",
      "Use `to_crs()` to reproject one of the input geometries to match the CRS of the other.\n",
      "\n",
      "Left CRS: None\n",
      "Right CRS: EPSG:4326\n",
      "\n",
      "  This is separate from the ipykernel package so we can avoid doing imports until\n"
     ]
    }
   ],
   "source": [
    "world = gpd.read_file(gpd.datasets.get_path('naturalearth_lowres'))\n",
    "gdf = gpd.GeoDataFrame(df, geometry=gpd.points_from_xy(df.longitude, df.latitude))\n",
    "result = gpd.sjoin(gdf, world, how='left')"
   ]
  },
  {
   "cell_type": "code",
   "execution_count": 23,
   "metadata": {},
   "outputs": [
    {
     "name": "stdout",
     "output_type": "stream",
     "text": [
      "Russia 14.04\n",
      "Germany 7.25\n",
      "Ukraine 5.99\n",
      "United States of America 5.55\n",
      "Canada 5.13\n",
      "France 4.6\n",
      "United Kingdom 4.07\n",
      "South Africa 4.06\n",
      "China 3.71\n",
      "Turkey 2.92\n",
      "Slovakia 2.8\n",
      "Italy 2.62\n",
      "Iran 2.55\n",
      "Poland 2.53\n",
      "Austria 1.62\n",
      "Spain 1.58\n",
      "Norway 1.43\n",
      "India 1.37\n",
      "Australia 1.19\n",
      "Brazil 1.09\n",
      "Kazakhstan 1.08\n",
      "Belarus 1.01\n",
      "Chile 0.99\n",
      "Czechia 0.77\n",
      "Uzbekistan 0.67\n",
      "Hungary 0.67\n",
      "Finland 0.63\n",
      "Dem. Rep. Congo 0.59\n",
      "Burkina Faso 0.56\n",
      "Argentina 0.53\n",
      "Saudi Arabia 0.48\n",
      "Bolivia 0.48\n",
      "Sweden 0.47\n",
      "Romania 0.43\n",
      "Croatia 0.39\n",
      "Switzerland 0.38\n",
      "Algeria 0.38\n",
      "Serbia 0.37\n",
      "New Zealand 0.37\n",
      "Mexico 0.36\n",
      "Moldova 0.33\n",
      "Bulgaria 0.33\n",
      "Belgium 0.32\n",
      "North Korea 0.31\n",
      "Japan 0.3\n",
      "Greece 0.29\n",
      "Portugal 0.28\n",
      "Luxembourg 0.28\n",
      "Iraq 0.28\n",
      "Indonesia 0.27\n",
      "Netherlands 0.24\n",
      "Philippines 0.23\n",
      "Georgia 0.21\n",
      "Armenia 0.2\n",
      "Zimbabwe 0.18\n",
      "Cuba 0.17\n",
      "Togo 0.17\n",
      "Uganda 0.17\n",
      "Libya 0.17\n",
      "Colombia 0.15\n",
      "Morocco 0.15\n",
      "Kenya 0.14\n",
      "Benin 0.14\n",
      "Botswana 0.14\n",
      "Malaysia 0.13\n",
      "Zambia 0.12\n",
      "Qatar 0.12\n",
      "Kosovo 0.12\n",
      "Bosnia and Herz. 0.11\n",
      "South Korea 0.11\n",
      "Estonia 0.11\n",
      "Tunisia 0.11\n",
      "Mauritania 0.1\n",
      "Peru 0.1\n",
      "Senegal 0.09\n",
      "Ireland 0.09\n",
      "Haiti 0.09\n",
      "Yemen 0.09\n",
      "Ethiopia 0.09\n",
      "Macedonia 0.08\n",
      "Slovenia 0.08\n",
      "Egypt 0.08\n",
      "Mozambique 0.08\n",
      "Lesotho 0.08\n",
      "Taiwan 0.07\n",
      "Namibia 0.07\n",
      "Kyrgyzstan 0.06\n",
      "New Caledonia 0.06\n",
      "Pakistan 0.06\n",
      "Thailand 0.06\n",
      "Paraguay 0.06\n",
      "Bangladesh 0.06\n",
      "United Arab Emirates 0.06\n",
      "Ghana 0.06\n",
      "Tanzania 0.06\n",
      "Nigeria 0.06\n",
      "Venezuela 0.05\n",
      "Vietnam 0.05\n",
      "Nicaragua 0.05\n",
      "Latvia 0.05\n",
      "Syria 0.05\n",
      "Panama 0.05\n",
      "Denmark 0.04\n",
      "Ecuador 0.04\n",
      "Sri Lanka 0.04\n",
      "Costa Rica 0.04\n",
      "Israel 0.03\n",
      "Albania 0.03\n",
      "eSwatini 0.03\n",
      "Jordan 0.03\n",
      "Cyprus 0.03\n",
      "Lithuania 0.03\n",
      "Montenegro 0.03\n",
      "Cameroon 0.03\n",
      "Myanmar 0.03\n",
      "Puerto Rico 0.03\n",
      "Niger 0.03\n",
      "Nepal 0.03\n",
      "Guatemala 0.02\n",
      "Angola 0.02\n",
      "Mongolia 0.02\n",
      "Papua New Guinea 0.02\n",
      "Côte d'Ivoire 0.02\n",
      "Azerbaijan 0.02\n",
      "Kuwait 0.02\n",
      "Iceland 0.02\n",
      "Uruguay 0.02\n",
      "Madagascar 0.02\n",
      "Mali 0.02\n",
      "Afghanistan 0.02\n",
      "N. Cyprus 0.01\n",
      "Lebanon 0.01\n",
      "Dominican Rep. 0.01\n",
      "Turkmenistan 0.01\n",
      "Honduras 0.01\n",
      "Greenland 0.01\n",
      "Tajikistan 0.01\n",
      "Laos 0.01\n",
      "Suriname 0.01\n",
      "Burundi 0.01\n",
      "Belize 0.01\n",
      "S. Sudan 0.01\n",
      "Jamaica 0.01\n",
      "Oman 0.01\n",
      "Guinea 0.01\n",
      "Timor-Leste 0.01\n",
      "Chad 0.01\n",
      "Liberia 0.01\n",
      "Cambodia 0.01\n",
      "El Salvador 0.01\n",
      "Rwanda 0.0\n",
      "Trinidad and Tobago 0.0\n",
      "Fiji 0.0\n",
      "Gambia 0.0\n",
      "Palestine 0.0\n",
      "Eritrea 0.0\n",
      "Malawi 0.0\n",
      "Gabon 0.0\n",
      "Congo 0.0\n",
      "Bahamas 0.0\n",
      "Bhutan 0.0\n",
      "Somalia 0.0\n",
      "Central African Rep. 0.0\n",
      "W. Sahara 0.0\n",
      "Sierra Leone 0.0\n",
      "Guinea-Bissau 0.0\n",
      "Guyana 0.0\n",
      "Vanuatu 0.0\n",
      "Sudan 0.0\n",
      "Brunei 0.0\n",
      "nan 0.0\n",
      "171\n"
     ]
    }
   ],
   "source": [
    "landfills_percentage = {}\n",
    "\n",
    "for i in result.name.unique():\n",
    "    landfills_percentage[i] = result[result.name == i].shape[0] / result.shape[0] * 100\n",
    "\n",
    "# Order in descending order\n",
    "landfills_percentage = dict(sorted(landfills_percentage.items(), key=lambda item: item[1], reverse=True))\n",
    "\n",
    "for k, v in landfills_percentage.items():\n",
    "    print(k, round(v,2))\n",
    "\n",
    "print(len(landfills_percentage))"
   ]
  },
  {
   "cell_type": "code",
   "execution_count": 30,
   "metadata": {},
   "outputs": [
    {
     "data": {
      "image/png": "[encoded data removed]",
      "text/plain": [
       "<Figure size 720x360 with 1 Axes>"
      ]
     },
     "metadata": {
      "needs_background": "light"
     },
     "output_type": "display_data"
    }
   ],
   "source": [
    "# Make a barplot with percentages by countries\n",
    "import matplotlib.pyplot as plt\n",
    "import seaborn as sns\n",
    "\n",
    "#take 15 first countries\n",
    "troncated_landfills_percentage = {k: landfills_percentage[k] for k in list(landfills_percentage.keys())[:30]}\n",
    "\n",
    "plt.figure(figsize=(10, 5))\n",
    "sns.barplot(x=list(troncated_landfills_percentage.keys()), y=list(troncated_landfills_percentage.values()))\n",
    "plt.xticks(rotation=90)\n",
    "plt.ylabel('Percentage of landfills')\n",
    "plt.title('Percentage of landfills by country in the given dataset, 30 first countries')\n",
    "plt.show()"
   ]
  },
  {
   "cell_type": "code",
   "execution_count": 33,
   "metadata": {},
   "outputs": [
    {
     "name": "stdout",
     "output_type": "stream",
     "text": [
      "2296\n"
     ]
    }
   ],
   "source": [
    "# nb of landfills in france\n",
    "nb_polygons_France = result[result.name == 'France'].shape[0]\n",
    "print(nb_polygons_France)"
   ]
  },
  {
   "cell_type": "markdown",
   "metadata": {},
   "source": [
    "For the sake of clarity, all countries are not represented in the barplot. In total 171 countries are represented in the dataset. Only 4.6% of the landfills are located in France, which represents 2296 polygons in France. "
   ]
  },
  {
   "cell_type": "markdown",
   "metadata": {},
   "source": [
    "### Generate 10 images and maks using tsd and polygons from the same country. Let's say France"
   ]
  },
  {
   "cell_type": "code",
   "execution_count": null,
   "metadata": {},
   "outputs": [],
   "source": [
    "# Replace single quotes with double quotes in the JSON string\n",
    "geojsonstring = geojsonstring.replace(\"'\", '\"')\n",
    "\n",
    "# interpret the string as an object\n",
    "geojsonstruct = geojson.loads(geojsonstring)\n",
    "\n",
    "# this extracts the geometry field\n",
    "aoi = utils.find_key_in_geojson(geojsonstruct,'geometry')\n",
    "\n",
    "my_first_polygon = aoi"
   ]
  },
  {
   "cell_type": "code",
   "execution_count": null,
   "metadata": {},
   "outputs": [],
   "source": [
    "def query_clear_sky(aoi, satellite='Sentinel-2', max_cloud_cover=30, start_date=None, end_date=None):\n",
    "    if satellite == 'Sentinel-2':\n",
    "        res = tsd.get_sentinel2.search(aoi, start_date, end_date)\n",
    "    elif satellite == 'Landsat-8':\n",
    "        res = tsd.get_landsat.search(aoi, start_date, end_date)\n",
    "\n",
    "    res2 = []\n",
    "    for image in res:\n",
    "      if image.cloud_cover <= max_cloud_cover:\n",
    "          res2.append(image)\n",
    "    return res2"
   ]
  },
  {
   "cell_type": "code",
   "execution_count": null,
   "metadata": {},
   "outputs": [
    {
     "ename": "AttributeError",
     "evalue": "'str' object has no attribute 'isoformat'",
     "output_type": "error",
     "traceback": [
      "\u001b[0;31m---------------------------------------------------------------------------\u001b[0m",
      "\u001b[0;31mAttributeError\u001b[0m                            Traceback (most recent call last)",
      "Cell \u001b[0;32mIn[5], line 4\u001b[0m\n\u001b[1;32m      2\u001b[0m start_date \u001b[38;5;241m=\u001b[39m \u001b[38;5;124m'\u001b[39m\u001b[38;5;124m2023-01-01\u001b[39m\u001b[38;5;124m'\u001b[39m\n\u001b[1;32m      3\u001b[0m end_date \u001b[38;5;241m=\u001b[39m \u001b[38;5;124m'\u001b[39m\u001b[38;5;124m2023-07-01\u001b[39m\u001b[38;5;124m'\u001b[39m\n\u001b[0;32m----> 4\u001b[0m image_catalog \u001b[38;5;241m=\u001b[39m \u001b[43mtsd\u001b[49m\u001b[38;5;241;43m.\u001b[39;49m\u001b[43mget_sentinel2\u001b[49m\u001b[38;5;241;43m.\u001b[39;49m\u001b[43msearch\u001b[49m\u001b[43m(\u001b[49m\u001b[43mmy_first_polygon\u001b[49m\u001b[43m,\u001b[49m\u001b[43m \u001b[49m\u001b[43mstart_date\u001b[49m\u001b[38;5;241;43m=\u001b[39;49m\u001b[43mstart_date\u001b[49m\u001b[43m,\u001b[49m\u001b[43m \u001b[49m\u001b[43mend_date\u001b[49m\u001b[38;5;241;43m=\u001b[39;49m\u001b[43mend_date\u001b[49m\u001b[43m)\u001b[49m\n",
      "File \u001b[0;32m~/miniconda3/envs/env_rs/lib/python3.10/site-packages/tsd/get_sentinel2.py:68\u001b[0m, in \u001b[0;36msearch\u001b[0;34m(aoi, start_date, end_date, product_type, tile_id, title, relative_orbit_number, api, search_type, unique_mgrs_tile_per_orbit)\u001b[0m\n\u001b[1;32m     66\u001b[0m \u001b[38;5;28;01mif\u001b[39;00m api \u001b[38;5;241m==\u001b[39m \u001b[38;5;124m'\u001b[39m\u001b[38;5;124mcdse\u001b[39m\u001b[38;5;124m'\u001b[39m:\n\u001b[1;32m     67\u001b[0m     \u001b[38;5;28;01mfrom\u001b[39;00m \u001b[38;5;21;01mtsd\u001b[39;00m \u001b[38;5;28;01mimport\u001b[39;00m search_scihub\n\u001b[0;32m---> 68\u001b[0m     images \u001b[38;5;241m=\u001b[39m \u001b[43msearch_scihub\u001b[49m\u001b[38;5;241;43m.\u001b[39;49m\u001b[43msearch\u001b[49m\u001b[43m(\u001b[49m\u001b[43maoi\u001b[49m\u001b[38;5;241;43m=\u001b[39;49m\u001b[43maoi\u001b[49m\u001b[43m,\u001b[49m\n\u001b[1;32m     69\u001b[0m \u001b[43m                                  \u001b[49m\u001b[43mstart_date\u001b[49m\u001b[38;5;241;43m=\u001b[39;49m\u001b[43mstart_date\u001b[49m\u001b[43m,\u001b[49m\n\u001b[1;32m     70\u001b[0m \u001b[43m                                  \u001b[49m\u001b[43mend_date\u001b[49m\u001b[38;5;241;43m=\u001b[39;49m\u001b[43mend_date\u001b[49m\u001b[43m,\u001b[49m\n\u001b[1;32m     71\u001b[0m \u001b[43m                                  \u001b[49m\u001b[43msatellite\u001b[49m\u001b[38;5;241;43m=\u001b[39;49m\u001b[38;5;124;43m\"\u001b[39;49m\u001b[38;5;124;43mSentinel-2\u001b[39;49m\u001b[38;5;124;43m\"\u001b[39;49m\u001b[43m,\u001b[49m\n\u001b[1;32m     72\u001b[0m \u001b[43m                                  \u001b[49m\u001b[43mproduct_type\u001b[49m\u001b[38;5;241;43m=\u001b[39;49m\u001b[43mproduct_type\u001b[49m\u001b[43m,\u001b[49m\n\u001b[1;32m     73\u001b[0m \u001b[43m                                  \u001b[49m\u001b[43mrelative_orbit_number\u001b[49m\u001b[38;5;241;43m=\u001b[39;49m\u001b[43mrelative_orbit_number\u001b[49m\u001b[43m,\u001b[49m\n\u001b[1;32m     74\u001b[0m \u001b[43m                                  \u001b[49m\u001b[43mtile_id\u001b[49m\u001b[38;5;241;43m=\u001b[39;49m\u001b[43mtile_id\u001b[49m\u001b[43m,\u001b[49m\n\u001b[1;32m     75\u001b[0m \u001b[43m                                  \u001b[49m\u001b[43mtitle\u001b[49m\u001b[38;5;241;43m=\u001b[39;49m\u001b[43mtitle\u001b[49m\u001b[43m,\u001b[49m\n\u001b[1;32m     76\u001b[0m \u001b[43m                                  \u001b[49m\u001b[43msearch_type\u001b[49m\u001b[38;5;241;43m=\u001b[39;49m\u001b[43msearch_type\u001b[49m\u001b[43m)\u001b[49m\n\u001b[1;32m     77\u001b[0m \u001b[38;5;28;01melif\u001b[39;00m api \u001b[38;5;241m==\u001b[39m \u001b[38;5;124m'\u001b[39m\u001b[38;5;124mstac\u001b[39m\u001b[38;5;124m'\u001b[39m:\n\u001b[1;32m     78\u001b[0m     \u001b[38;5;28;01mfrom\u001b[39;00m \u001b[38;5;21;01mtsd\u001b[39;00m \u001b[38;5;28;01mimport\u001b[39;00m search_stac\n",
      "File \u001b[0;32m~/miniconda3/envs/env_rs/lib/python3.10/site-packages/tsd/search_scihub.py:127\u001b[0m, in \u001b[0;36msearch\u001b[0;34m(aoi, search_type, **kwargs)\u001b[0m\n\u001b[1;32m    123\u001b[0m \u001b[38;5;28;01mdef\u001b[39;00m \u001b[38;5;21msearch\u001b[39m(aoi\u001b[38;5;241m=\u001b[39m\u001b[38;5;28;01mNone\u001b[39;00m, search_type\u001b[38;5;241m=\u001b[39m\u001b[38;5;124m\"\u001b[39m\u001b[38;5;124mintersects\u001b[39m\u001b[38;5;124m\"\u001b[39m, \u001b[38;5;241m*\u001b[39m\u001b[38;5;241m*\u001b[39mkwargs):\n\u001b[1;32m    124\u001b[0m \u001b[38;5;250m    \u001b[39m\u001b[38;5;124;03m\"\"\"\u001b[39;00m\n\u001b[1;32m    125\u001b[0m \u001b[38;5;124;03m    List the items intersecting an AOI by querying the CDSE API.\u001b[39;00m\n\u001b[1;32m    126\u001b[0m \u001b[38;5;124;03m    \"\"\"\u001b[39;00m\n\u001b[0;32m--> 127\u001b[0m     query_url \u001b[38;5;241m=\u001b[39m \u001b[43mbuild_odata_query_url\u001b[49m\u001b[43m(\u001b[49m\u001b[43maoi\u001b[49m\u001b[38;5;241;43m=\u001b[39;49m\u001b[43maoi\u001b[49m\u001b[43m,\u001b[49m\u001b[43m \u001b[49m\u001b[38;5;241;43m*\u001b[39;49m\u001b[38;5;241;43m*\u001b[39;49m\u001b[43mkwargs\u001b[49m\u001b[43m)\u001b[49m\n\u001b[1;32m    129\u001b[0m     r \u001b[38;5;241m=\u001b[39m requests\u001b[38;5;241m.\u001b[39mget(query_url)\n\u001b[1;32m    131\u001b[0m     \u001b[38;5;28;01mif\u001b[39;00m \u001b[38;5;129;01mnot\u001b[39;00m r\u001b[38;5;241m.\u001b[39mok:\n",
      "File \u001b[0;32m~/miniconda3/envs/env_rs/lib/python3.10/site-packages/tsd/search_scihub.py:103\u001b[0m, in \u001b[0;36mbuild_odata_query_url\u001b[0;34m(max_nb_items, orderby, expand_attributes, expand_assets, **kwargs)\u001b[0m\n\u001b[1;32m     98\u001b[0m \u001b[38;5;28;01mdef\u001b[39;00m \u001b[38;5;21mbuild_odata_query_url\u001b[39m(max_nb_items\u001b[38;5;241m=\u001b[39m\u001b[38;5;241m1000\u001b[39m, orderby\u001b[38;5;241m=\u001b[39m\u001b[38;5;124m\"\u001b[39m\u001b[38;5;124mContentDate/Start\u001b[39m\u001b[38;5;124m\"\u001b[39m,\n\u001b[1;32m     99\u001b[0m                           expand_attributes\u001b[38;5;241m=\u001b[39m\u001b[38;5;28;01mTrue\u001b[39;00m, expand_assets\u001b[38;5;241m=\u001b[39m\u001b[38;5;28;01mTrue\u001b[39;00m,\n\u001b[1;32m    100\u001b[0m                           \u001b[38;5;241m*\u001b[39m\u001b[38;5;241m*\u001b[39mkwargs):\n\u001b[1;32m    101\u001b[0m \u001b[38;5;250m    \u001b[39m\u001b[38;5;124;03m\"\"\"\u001b[39;00m\n\u001b[1;32m    102\u001b[0m \u001b[38;5;124;03m    \"\"\"\u001b[39;00m\n\u001b[0;32m--> 103\u001b[0m     filters \u001b[38;5;241m=\u001b[39m \u001b[43mbuild_odata_filter\u001b[49m\u001b[43m(\u001b[49m\u001b[38;5;241;43m*\u001b[39;49m\u001b[38;5;241;43m*\u001b[39;49m\u001b[43mkwargs\u001b[49m\u001b[43m)\u001b[49m\n\u001b[1;32m    104\u001b[0m     filters \u001b[38;5;241m=\u001b[39m urllib\u001b[38;5;241m.\u001b[39mparse\u001b[38;5;241m.\u001b[39mquote(filters)\n\u001b[1;32m    106\u001b[0m     query_url \u001b[38;5;241m=\u001b[39m \u001b[38;5;124mf\u001b[39m\u001b[38;5;124m\"\u001b[39m\u001b[38;5;132;01m{\u001b[39;00mAPI_URL\u001b[38;5;132;01m}\u001b[39;00m\u001b[38;5;124m?$filter=\u001b[39m\u001b[38;5;132;01m{\u001b[39;00mfilters\u001b[38;5;132;01m}\u001b[39;00m\u001b[38;5;124m\"\u001b[39m\n",
      "File \u001b[0;32m~/miniconda3/envs/env_rs/lib/python3.10/site-packages/tsd/search_scihub.py:58\u001b[0m, in \u001b[0;36mbuild_odata_filter\u001b[0;34m(aoi, start_date, end_date, satellite, product_type, operational_mode, relative_orbit_number, orbit_direction, swath_identifier, tile_id, title, tml, max_cloud_cover)\u001b[0m\n\u001b[1;32m     55\u001b[0m     filters\u001b[38;5;241m.\u001b[39mappend(\u001b[38;5;124m\"\u001b[39m\u001b[38;5;124mOData.CSC.Intersects(area=geography\u001b[39m\u001b[38;5;124m'\u001b[39m\u001b[38;5;124mSRID=4326;\u001b[39m\u001b[38;5;132;01m{}\u001b[39;00m\u001b[38;5;124m'\u001b[39m\u001b[38;5;124m)\u001b[39m\u001b[38;5;124m\"\u001b[39m\u001b[38;5;241m.\u001b[39mformat(shapely\u001b[38;5;241m.\u001b[39mgeometry\u001b[38;5;241m.\u001b[39mshape(aoi)\u001b[38;5;241m.\u001b[39mwkt))\n\u001b[1;32m     57\u001b[0m \u001b[38;5;28;01mif\u001b[39;00m start_date \u001b[38;5;129;01mis\u001b[39;00m \u001b[38;5;129;01mnot\u001b[39;00m \u001b[38;5;28;01mNone\u001b[39;00m:\n\u001b[0;32m---> 58\u001b[0m     filters\u001b[38;5;241m.\u001b[39mappend(\u001b[38;5;124m\"\u001b[39m\u001b[38;5;124mContentDate/Start gt \u001b[39m\u001b[38;5;132;01m{}\u001b[39;00m\u001b[38;5;124m\"\u001b[39m\u001b[38;5;241m.\u001b[39mformat(\u001b[43mstart_date\u001b[49m\u001b[38;5;241;43m.\u001b[39;49m\u001b[43misoformat\u001b[49m()))\n\u001b[1;32m     60\u001b[0m \u001b[38;5;28;01mif\u001b[39;00m end_date \u001b[38;5;129;01mis\u001b[39;00m \u001b[38;5;129;01mnot\u001b[39;00m \u001b[38;5;28;01mNone\u001b[39;00m:\n\u001b[1;32m     61\u001b[0m     filters\u001b[38;5;241m.\u001b[39mappend(\u001b[38;5;124m\"\u001b[39m\u001b[38;5;124mContentDate/Start lt \u001b[39m\u001b[38;5;132;01m{}\u001b[39;00m\u001b[38;5;124m\"\u001b[39m\u001b[38;5;241m.\u001b[39mformat(end_date\u001b[38;5;241m.\u001b[39misoformat()))\n",
      "\u001b[0;31mAttributeError\u001b[0m: 'str' object has no attribute 'isoformat'"
     ]
    }
   ],
   "source": [
    "my_first_polygon = data['features'][0]['geometry']\n",
    "start_date = '2023-01-01'\n",
    "end_date = '2023-07-01'\n",
    "image_catalog = tsd.get_sentinel2.search(my_first_polygon, start_date=start_date, end_date=end_date)"
   ]
  }
 ],
 "metadata": {
  "kernelspec": {
   "display_name": "env_pytorch",
   "language": "python",
   "name": "python3"
  },
  "language_info": {
   "codemirror_mode": {
    "name": "ipython",
    "version": 3
   },
   "file_extension": ".py",
   "mimetype": "text/x-python",
   "name": "python",
   "nbconvert_exporter": "python",
   "pygments_lexer": "ipython3",
   "version": "3.10.13"
  }
 },
 "nbformat": 4,
 "nbformat_minor": 2
}
