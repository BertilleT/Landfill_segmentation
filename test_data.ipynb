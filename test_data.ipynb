{
 "cells": [
  {
   "cell_type": "code",
   "execution_count": null,
   "metadata": {},
   "outputs": [],
   "source": [
    "import json\n",
    "\n",
    "with open('landfills_openstreetmap.geojson') as f:\n",
    "    data = json.load(f)"
   ]
  },
  {
   "cell_type": "code",
   "execution_count": null,
   "metadata": {},
   "outputs": [],
   "source": [
    "len(data)"
   ]
  },
  {
   "cell_type": "code",
   "execution_count": null,
   "metadata": {},
   "outputs": [],
   "source": [
    "data.keys()"
   ]
  },
  {
   "cell_type": "code",
   "execution_count": null,
   "metadata": {},
   "outputs": [],
   "source": [
    "data['type'], data['generator'], data['copyright'], data['timestamp']"
   ]
  },
  {
   "cell_type": "code",
   "execution_count": null,
   "metadata": {},
   "outputs": [],
   "source": [
    "len(data['features'])"
   ]
  },
  {
   "cell_type": "code",
   "execution_count": null,
   "metadata": {},
   "outputs": [],
   "source": [
    "data['features'][0]"
   ]
  },
  {
   "cell_type": "code",
   "execution_count": null,
   "metadata": {},
   "outputs": [],
   "source": [
    "# These are the main includes used through the notebook\n",
    "import datetime\n",
    "import geojson\n",
    "import numpy as np                   # numeric linear algebra\n",
    "import matplotlib.pyplot as plt      # plotting\n",
    "import rasterio       # read/write geotiffs\n",
    "import tsd            # time series downloader for sentinel and landsat\n",
    "import utils          # IO and coordinate system conversion tools\n",
    "import vistools       # display tools\n",
    "import folium\n",
    "import folium.plugins"
   ]
  },
  {
   "cell_type": "code",
   "execution_count": null,
   "metadata": {},
   "outputs": [],
   "source": [
    "geojsonstring = str(data['features'][0])"
   ]
  },
  {
   "cell_type": "code",
   "execution_count": null,
   "metadata": {},
   "outputs": [],
   "source": [
    "print(geojsonstring)"
   ]
  },
  {
   "cell_type": "code",
   "execution_count": null,
   "metadata": {},
   "outputs": [],
   "source": [
    "import json\n",
    "\n",
    "# Replace single quotes with double quotes in the JSON string\n",
    "geojsonstring = geojsonstring.replace(\"'\", '\"')\n",
    "\n",
    "# interpret the string as an object\n",
    "geojsonstruct = geojson.loads(geojsonstring)\n",
    "\n",
    "# this extracts the geometry field\n",
    "aoi = utils.find_key_in_geojson(geojsonstruct,'geometry')\n",
    "\n",
    "print(\"These are the coordinates of the selected polygon in GeoJSON format:\")\n",
    "print(geojson.dumps(aoi, indent=2))"
   ]
  },
  {
   "cell_type": "code",
   "execution_count": null,
   "metadata": {},
   "outputs": [],
   "source": [
    "m = vistools.foliummap()\n",
    "\n",
    "# we can draw the aoi\n",
    "folium.GeoJson(aoi).add_to(m)\n",
    "# and center the map at the aoi center\n",
    "m.location   = np.mean(aoi['coordinates'][0][:4], axis=0).tolist()[::-1]\n",
    "\n",
    "display(m)"
   ]
  },
  {
   "cell_type": "code",
   "execution_count": null,
   "metadata": {},
   "outputs": [],
   "source": [
    "aoi = utils.find_key_in_geojson(geojsonstruct,'geometry')"
   ]
  },
  {
   "cell_type": "code",
   "execution_count": null,
   "metadata": {},
   "outputs": [],
   "source": [
    "start_date = datetime.datetime(2023, 7, 1)\n",
    "end_date = datetime.datetime(2023, 12, 31)\n",
    "\n",
    "# run the query\n",
    "image_catalog = tsd.get_sentinel2.search(aoi, start_date=start_date, end_date=end_date)\n",
    "\n",
    "if len(image_catalog) == 0:\n",
    "    print(\"Maybe your AOI selection is too large\")\n",
    "\n",
    "import pandas as pd\n",
    "pd.DataFrame([dict(i) for i in image_catalog])"
   ]
  },
  {
   "cell_type": "code",
   "execution_count": null,
   "metadata": {},
   "outputs": [],
   "source": [
    "## Let's select the last entry from the catalog\n",
    "entry = image_catalog[-1]\n",
    "\n",
    "# and display its thumbnail\n",
    "vistools.display_image(entry['thumbnail'])   #  for displaying an image in the notebook\n",
    "print('At any moment, about 60 percent of the earth is covered by clouds.')"
   ]
  },
  {
   "cell_type": "code",
   "execution_count": null,
   "metadata": {},
   "outputs": [],
   "source": [
    "def query_clear_sky(aoi, satellite='Sentinel-2', max_cloud_cover=30,\n",
    "                    start_date=None, end_date=None):\n",
    "    '''\n",
    "    queries the devseed database for the aoi\n",
    "    returns a filtered catalog with images with cloud\n",
    "    cover of at most max_cloud_cover\n",
    "    '''\n",
    "    # run a search\n",
    "    if satellite == 'Sentinel-2':\n",
    "        res = tsd.get_sentinel2.search(aoi, start_date, end_date)\n",
    "    elif satellite == 'Landsat-8':\n",
    "        res = tsd.get_landsat.search(aoi, start_date, end_date)\n",
    "\n",
    "\n",
    "    ###### Insert your solution code here ######\n",
    "    res2 = []\n",
    "    for image in res:\n",
    "      if image.cloud_cover <= max_cloud_cover:\n",
    "          res2.append(image)\n",
    "\n",
    "    return res2"
   ]
  },
  {
   "cell_type": "code",
   "execution_count": null,
   "metadata": {},
   "outputs": [],
   "source": [
    "res = query_clear_sky(aoi, satellite='Sentinel-2', max_cloud_cover=20,\n",
    "                      start_date=start_date,\n",
    "                      end_date=end_date)\n",
    "\n",
    "## display the images in a gallery\n",
    "g, l = [], []\n",
    "for p in res:\n",
    "    l.append(\"Imaging date: {}, cloud cover: {}\".format(p.date.isoformat(), p.cloud_cover))\n",
    "    g.append(p.thumbnail)\n",
    "\n",
    "vistools.display_gallery(g, l)"
   ]
  },
  {
   "cell_type": "code",
   "execution_count": null,
   "metadata": {},
   "outputs": [],
   "source": [
    "def get_crop_from_aoi(output_path, aoi, catalog_entry, band):\n",
    "    \"\"\"\n",
    "    Crop and download an AOI from a georeferenced image.\n",
    "    Args:\n",
    "        output_path (string): path to the output GeoTIFF file\n",
    "        aoi (geojson.Polygon): area of interest defined by a polygon in longitude, latitude coordinates\n",
    "        catalog_entry (tsd.s2_metadata_parser.Sentinel2Image): metadata object\n",
    "        band (str): desired band, e.g. 'B04' for Sentinel-2 or 'B8' for Landsat-8\n",
    "    \"\"\"\n",
    "    metadata = catalog_entry\n",
    "    if not metadata.urls['aws']:\n",
    "        metadata.build_s3_links()\n",
    "    inpath = metadata.urls['aws'][band]\n",
    "\n",
    "    utm_zone = metadata.get(\"utm_zone\")\n",
    "    lat_band = metadata.get(\"lat_band\")\n",
    "    epsg = tsd.utils.utm_to_epsg_code(utm_zone, lat_band) if utm_zone else None\n",
    "\n",
    "    ulx, uly, lrx, lry, epsg = tsd.utils.utm_bbx(aoi, epsg=epsg, r=60)\n",
    "    tsd.utils.rasterio_geo_crop(output_path, inpath, ulx, uly, lrx, lry, epsg=epsg)"
   ]
  },
  {
   "cell_type": "code",
   "execution_count": null,
   "metadata": {},
   "outputs": [],
   "source": [
    "# # lets download the image\n",
    "# output_path = 'output.tiff'\n",
    "# get_crop_from_aoi(output_path, aoi, res[-1], 'B04')\n",
    "\n",
    "# # and display it\n",
    "# vistools.display_image(output_path)\n"
   ]
  },
  {
   "cell_type": "code",
   "execution_count": null,
   "metadata": {},
   "outputs": [],
   "source": [
    "# Let's start downloading the green channel\n",
    "my_satellite, band = 'Sentinel-2', 'B03'\n",
    "fname = 'ex4_{}.tif'.format(band)\n",
    "results = query_clear_sky(aoi, my_satellite, max_cloud_cover=30,\n",
    "                          start_date=start_date, end_date=end_date)"
   ]
  },
  {
   "cell_type": "code",
   "execution_count": null,
   "metadata": {},
   "outputs": [],
   "source": [
    "# This is where the downloading is done\n",
    "get_crop_from_aoi(fname, aoi, results[0], band)\n",
    "\n",
    "# To read the image and metadata useutils.readGTIFF andutils.readGTIFFmeta\n",
    "im   = utils.readGTIFF(fname)\n",
    "meta = utils.readGTIFFmeta(fname)\n",
    "\n",
    "print('We can see some metadata...')\n",
    "display(meta)\n",
    "print('...and the image. However it has a high bit depth so it cannot be shown as it is')\n",
    "vistools.display_image(im)\n",
    "print('we can divide by 32 and see what happens')\n",
    "vistools.display_image(im/32)\n",
    "print('the result seems ok, but a bit dark')"
   ]
  },
  {
   "cell_type": "code",
   "execution_count": null,
   "metadata": {},
   "outputs": [],
   "source": [
    "def simple_equalization_8bit(im, percentiles=5):\n",
    "    ''' im is a numpy array\n",
    "        returns a numpy array\n",
    "    '''\n",
    "\n",
    "    ###     <<< CODE HERE >>>\n",
    "    low = np.percentile(im, percentiles)\n",
    "    high = np.percentile(im, 100-percentiles)\n",
    "\n",
    "    im = np.clip(im, low, high)\n",
    "    im = (im - low) / (high - low)\n",
    "    im = np.uint8(im * 255)\n",
    "\n",
    "    return im"
   ]
  },
  {
   "cell_type": "code",
   "execution_count": null,
   "metadata": {},
   "outputs": [],
   "source": [
    "basename='ex4_'\n",
    "im = utils.readGTIFF(basename+'B03.tif')\n",
    "vistools.display_image(\n",
    "    simple_equalization_8bit(im, percentiles=2)\n",
    ")"
   ]
  },
  {
   "cell_type": "code",
   "execution_count": null,
   "metadata": {},
   "outputs": [],
   "source": [
    "#  Let's write a function that downloads the Sentinel-2 RGB bands\n",
    "#  and creates an 8bit color image. For that we will apply the function\n",
    "#  simple_equalization_8bit to each channel.\n",
    "\n",
    "def get_sentinel2_color_8bit(basefilename, aoi, catalog_entry, percentiles=5):\n",
    "    ''' basefilename to store the bands:  basename+BAND+'.tif'\n",
    "        returns a numpy array of the RGB image (height, width, channels)\n",
    "    '''\n",
    "    bands = ['B02', 'B04', 'B03']    # SENTINEL2 R,G,B BANDS\n",
    "\n",
    "    # this command downloads all the bands\n",
    "    for b in bands:\n",
    "        get_crop_from_aoi('{}_{}.tif'.format(basefilename, b), aoi, catalog_entry, b)\n",
    "\n",
    "    # read, equalize, and stack all the channels\n",
    "    out = []\n",
    "    for b in bands:\n",
    "        im = utils.readGTIFF('{}_{}.tif'.format(basefilename, b))\n",
    "        im = simple_equalization_8bit(im, percentiles)\n",
    "        out.append(im)\n",
    "\n",
    "    # The transposition is necessary because the indexing\n",
    "    # convention for color images is (height, width, channels)\n",
    "    im = np.squeeze(out,axis=(3)).transpose(1,2,0)\n",
    "    return im\n",
    "\n",
    "\n",
    "#### Test the function by running\n",
    "# pick the satellite then query the database\n",
    "my_satellite = 'Sentinel-2'\n",
    "basename = 'rgb'\n",
    "res = query_clear_sky(aoi, my_satellite, max_cloud_cover=10, start_date=start_date, end_date=end_date)\n",
    "\n",
    "# generate the RGB image\n",
    "RGBout = get_sentinel2_color_8bit(basename, aoi, res[-1])\n",
    "\n",
    "# Writes RGBout in 'rgb_RGB.tif' copying geolocation metadata from 'rgb_B03.tif',\n",
    "# which has been written by    get_sentinel2_color_8bit\n",
    "utils.writeGTIFF(RGBout, basename+'_RGB.tif', basename+'_B03.tif')\n",
    "\n",
    "# display RGBout\n",
    "vistools.display_imshow(RGBout, figsize=(10,10))"
   ]
  },
  {
   "cell_type": "code",
   "execution_count": null,
   "metadata": {},
   "outputs": [],
   "source": []
  }
 ],
 "metadata": {
  "kernelspec": {
   "display_name": "Python 3",
   "language": "python",
   "name": "python3"
  },
  "language_info": {
   "codemirror_mode": {
    "name": "ipython",
    "version": 3
   },
   "file_extension": ".py",
   "mimetype": "text/x-python",
   "name": "python",
   "nbconvert_exporter": "python",
   "pygments_lexer": "ipython3",
   "version": "3.10.6"
  }
 },
 "nbformat": 4,
 "nbformat_minor": 2
}
